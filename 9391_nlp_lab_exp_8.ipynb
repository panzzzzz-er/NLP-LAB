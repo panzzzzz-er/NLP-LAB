{
  "nbformat": 4,
  "nbformat_minor": 0,
  "metadata": {
    "colab": {
      "provenance": []
    },
    "kernelspec": {
      "name": "python3",
      "display_name": "Python 3"
    },
    "language_info": {
      "name": "python"
    }
  },
  "cells": [
    {
      "cell_type": "code",
      "source": [
        "# With libraries"
      ],
      "metadata": {
        "id": "PIGJrC3d1Swf"
      },
      "execution_count": null,
      "outputs": []
    },
    {
      "cell_type": "code",
      "source": [
        "from nltk.corpus import wordnet\n",
        "from nltk.wsd import lesk\n",
        "from nltk.tokenize import word_tokenize"
      ],
      "metadata": {
        "id": "XOBs9C91vXIp"
      },
      "execution_count": null,
      "outputs": []
    },
    {
      "cell_type": "code",
      "source": [
        "import nltk\n",
        "nltk.download('punkt')\n",
        "nltk.download('wordnet')"
      ],
      "metadata": {
        "colab": {
          "base_uri": "https://localhost:8080/"
        },
        "id": "xNJyhsyEvuU1",
        "outputId": "68cfda8f-dccd-473c-b693-93483bfd45e2"
      },
      "execution_count": null,
      "outputs": [
        {
          "output_type": "stream",
          "name": "stderr",
          "text": [
            "[nltk_data] Downloading package punkt to /root/nltk_data...\n",
            "[nltk_data]   Unzipping tokenizers/punkt.zip.\n",
            "[nltk_data] Downloading package wordnet to /root/nltk_data...\n"
          ]
        },
        {
          "output_type": "execute_result",
          "data": {
            "text/plain": [
              "True"
            ]
          },
          "metadata": {},
          "execution_count": 3
        }
      ]
    },
    {
      "cell_type": "code",
      "source": [
        "a1= lesk(word_tokenize('This device is used to jam the signal'),'jam')\n",
        "print(a1,a1.definition())\n",
        "\n",
        "a2 = lesk(word_tokenize('I am stuck in a traffic jam'),'jam')\n",
        "print(a2,a2.definition())"
      ],
      "metadata": {
        "colab": {
          "base_uri": "https://localhost:8080/"
        },
        "id": "QIWSeiN0x-Oc",
        "outputId": "86977bd2-9e7a-46b9-b44d-ffad6ecc30dd"
      },
      "execution_count": null,
      "outputs": [
        {
          "output_type": "stream",
          "name": "stdout",
          "text": [
            "Synset('jamming.n.01') deliberate radiation or reflection of electromagnetic energy for the purpose of disrupting enemy use of electronic devices or systems\n",
            "Synset('jam.v.05') get stuck and immobilized\n"
          ]
        }
      ]
    },
    {
      "cell_type": "code",
      "source": [
        "b1= lesk(word_tokenize('Apply spices to the chicken to season it'),'season')\n",
        "print(b1,b1.definition())\n",
        "\n",
        "b2= lesk(word_tokenize('India receives a lot of rain in the rainy season'),'season')\n",
        "print(b2,b2.definition())"
      ],
      "metadata": {
        "colab": {
          "base_uri": "https://localhost:8080/"
        },
        "id": "Dvx8cVs1yFzy",
        "outputId": "7561f8c4-6810-45b3-8283-04e171a5d1de"
      },
      "execution_count": null,
      "outputs": [
        {
          "output_type": "stream",
          "name": "stdout",
          "text": [
            "Synset('season.v.01') lend flavor to\n",
            "Synset('season.n.01') a period of the year marked by special events or activities in some field\n"
          ]
        }
      ]
    },
    {
      "cell_type": "code",
      "source": [
        "c1= lesk(word_tokenize('Water current'),'current')\n",
        "print(c1,c1.definition())\n",
        "\n",
        "c2= lesk(word_tokenize('The current time is 2 AM'),'current')\n",
        "print(c2,c2.definition())"
      ],
      "metadata": {
        "colab": {
          "base_uri": "https://localhost:8080/"
        },
        "id": "y8YUjNc9yVb4",
        "outputId": "ac8cc559-4325-4209-c4c2-9d93f1ffa876"
      },
      "execution_count": null,
      "outputs": [
        {
          "output_type": "stream",
          "name": "stdout",
          "text": [
            "Synset('stream.n.02') dominant course (suggestive of running water) of successive events or ideas\n",
            "Synset('current.a.01') occurring in or belonging to the present time\n"
          ]
        }
      ]
    },
    {
      "cell_type": "code",
      "source": [
        "# Without libraries"
      ],
      "metadata": {
        "id": "ZnQo6qEjyduB"
      },
      "execution_count": null,
      "outputs": []
    },
    {
      "cell_type": "code",
      "source": [
        "import nltk\n",
        "from nltk.corpus import wordnet\n",
        "\n",
        "nltk.download('punkt')\n",
        "nltk.download('averaged_perceptron_tagger')\n",
        "nltk.download('wordnet')"
      ],
      "metadata": {
        "colab": {
          "base_uri": "https://localhost:8080/"
        },
        "id": "rSAhRwNY1YhQ",
        "outputId": "75f4f65a-bb24-4f78-f0c1-08a053f48994"
      },
      "execution_count": null,
      "outputs": [
        {
          "output_type": "stream",
          "name": "stderr",
          "text": [
            "[nltk_data] Downloading package punkt to /root/nltk_data...\n",
            "[nltk_data]   Package punkt is already up-to-date!\n",
            "[nltk_data] Downloading package averaged_perceptron_tagger to\n",
            "[nltk_data]     /root/nltk_data...\n",
            "[nltk_data]   Package averaged_perceptron_tagger is already up-to-\n",
            "[nltk_data]       date!\n",
            "[nltk_data] Downloading package wordnet to /root/nltk_data...\n",
            "[nltk_data]   Package wordnet is already up-to-date!\n"
          ]
        },
        {
          "output_type": "execute_result",
          "data": {
            "text/plain": [
              "True"
            ]
          },
          "metadata": {},
          "execution_count": 10
        }
      ]
    },
    {
      "cell_type": "code",
      "source": [
        "def get_word_senses(word):\n",
        "    synsets = wordnet.synsets(word)\n",
        "    return synsets"
      ],
      "metadata": {
        "id": "k7zOfOBB1e1L"
      },
      "execution_count": null,
      "outputs": []
    },
    {
      "cell_type": "code",
      "source": [
        "def disambiguate_word(context, word):\n",
        "    word_senses = get_word_senses(word)\n",
        "    if not word_senses:\n",
        "        return None\n",
        "\n",
        "    context = nltk.word_tokenize(context)\n",
        "    context = nltk.pos_tag(context)\n",
        "\n",
        "    best_sense = None\n",
        "    max_overlap = -1\n",
        "\n",
        "    for sense in word_senses:\n",
        "        sense_def = sense.definition()\n",
        "        sense_tokens = nltk.word_tokenize(sense_def)\n",
        "        sense_tokens = [token.lower() for token in sense_tokens]\n",
        "\n",
        "        overlap = len(set(context) & set(sense_tokens))\n",
        "\n",
        "        if overlap > max_overlap:\n",
        "            max_overlap = overlap\n",
        "            best_sense = sense\n",
        "\n",
        "    # return best_sense\n",
        "\n",
        "    if best_sense:\n",
        "        print(f\"The sense of '{word_to_disambiguate}' in the context is: {best_sense.definition()}\")\n",
        "    else:\n",
        "        print(f\"No suitable senses found for '{word_to_disambiguate}' in the given context.\")"
      ],
      "metadata": {
        "id": "uv-QHCW-1jJ5"
      },
      "execution_count": null,
      "outputs": []
    },
    {
      "cell_type": "code",
      "source": [
        "context = \"The bank by the river is experiencing financial difficulties.\"\n",
        "word_to_disambiguate = \"bank\"\n",
        "\n",
        "disambiguate_word(context, word_to_disambiguate)"
      ],
      "metadata": {
        "colab": {
          "base_uri": "https://localhost:8080/"
        },
        "id": "WpyodxCm2BR2",
        "outputId": "91e40566-e044-486b-d6d7-4cc44f3b1fb7"
      },
      "execution_count": null,
      "outputs": [
        {
          "output_type": "stream",
          "name": "stdout",
          "text": [
            "The sense of 'bank' in the context is: sloping land (especially the slope beside a body of water)\n"
          ]
        }
      ]
    },
    {
      "cell_type": "code",
      "source": [
        "context = \"The teacher asked the student to write on the board.\"\n",
        "word_to_disambiguate = \"board\"\n",
        "\n",
        "disambiguate_word(context, word_to_disambiguate)"
      ],
      "metadata": {
        "colab": {
          "base_uri": "https://localhost:8080/"
        },
        "id": "Q3bdnrIj9YEa",
        "outputId": "0546049f-3996-41ce-d464-fd5b65672adc"
      },
      "execution_count": null,
      "outputs": [
        {
          "output_type": "stream",
          "name": "stdout",
          "text": [
            "The sense of 'board' in the context is: a committee having supervisory powers\n"
          ]
        }
      ]
    },
    {
      "cell_type": "code",
      "source": [
        "context = \"The athlete sprinted around the track for the final lap.\"\n",
        "word_to_disambiguate = \"track\"\n",
        "\n",
        "disambiguate_word(context, word_to_disambiguate)"
      ],
      "metadata": {
        "colab": {
          "base_uri": "https://localhost:8080/"
        },
        "id": "UKzDoX2f9qkA",
        "outputId": "dfe4871f-629a-4771-a428-cfa879cf754b"
      },
      "execution_count": null,
      "outputs": [
        {
          "output_type": "stream",
          "name": "stdout",
          "text": [
            "The sense of 'track' in the context is: a line or route along which something travels or moves\n"
          ]
        }
      ]
    },
    {
      "cell_type": "code",
      "source": [
        "context = \"She reached for a file on the shelf to organize her documents.\"\n",
        "word_to_disambiguate = \"file\"\n",
        "\n",
        "disambiguate_word(context, word_to_disambiguate)"
      ],
      "metadata": {
        "colab": {
          "base_uri": "https://localhost:8080/"
        },
        "id": "EsM3fEge9zPc",
        "outputId": "4994f0b9-fd50-48c0-c906-451ea0f15b25"
      },
      "execution_count": null,
      "outputs": [
        {
          "output_type": "stream",
          "name": "stdout",
          "text": [
            "The sense of 'file' in the context is: a set of related records (either written or electronic) kept together\n"
          ]
        }
      ]
    },
    {
      "cell_type": "code",
      "source": [
        "context = \"The musician played a beautiful melody on the flute.\"\n",
        "word_to_disambiguate = \"flute\"\n",
        "\n",
        "disambiguate_word(context, word_to_disambiguate)"
      ],
      "metadata": {
        "colab": {
          "base_uri": "https://localhost:8080/"
        },
        "id": "DQQWQXvz97kG",
        "outputId": "01bf3a23-7604-4f53-98d4-fc6ddc32aaef"
      },
      "execution_count": null,
      "outputs": [
        {
          "output_type": "stream",
          "name": "stdout",
          "text": [
            "The sense of 'flute' in the context is: a high-pitched woodwind instrument; a slender tube closed at one end with finger holes on one end and an opening near the closed end across which the breath is blown\n"
          ]
        }
      ]
    },
    {
      "cell_type": "code",
      "source": [
        "context = \"The detective examined the case thoroughly before making any conclusions.\"\n",
        "word_to_disambiguate = \"case\"\n",
        "\n",
        "disambiguate_word(context, word_to_disambiguate)"
      ],
      "metadata": {
        "colab": {
          "base_uri": "https://localhost:8080/"
        },
        "id": "VAvwRuqd-Fey",
        "outputId": "0f2903af-7d83-4b58-d26f-4468b1117bee"
      },
      "execution_count": null,
      "outputs": [
        {
          "output_type": "stream",
          "name": "stdout",
          "text": [
            "The sense of 'case' in the context is: an occurrence of something\n"
          ]
        }
      ]
    },
    {
      "cell_type": "code",
      "source": [],
      "metadata": {
        "id": "qx75vbfJAyTZ"
      },
      "execution_count": null,
      "outputs": []
    }
  ]
}