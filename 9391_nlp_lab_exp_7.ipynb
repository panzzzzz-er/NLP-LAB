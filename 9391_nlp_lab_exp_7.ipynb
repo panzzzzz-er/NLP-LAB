{
  "metadata": {
    "kernelspec": {
      "language": "python",
      "display_name": "Python 3",
      "name": "python3"
    },
    "language_info": {
      "name": "python",
      "version": "3.10.12",
      "mimetype": "text/x-python",
      "codemirror_mode": {
        "name": "ipython",
        "version": 3
      },
      "pygments_lexer": "ipython3",
      "nbconvert_exporter": "python",
      "file_extension": ".py"
    },
    "colab": {
      "provenance": []
    }
  },
  "nbformat_minor": 0,
  "nbformat": 4,
  "cells": [
    {
      "cell_type": "code",
      "source": [
        "# IMPLEMENTATION OF: https://medium.com/@Ayra_Lux/hidden-markov-models-part-1-the-likelihood-problem-8dd1066a784e"
      ],
      "metadata": {
        "id": "uMD2M2u60NgX"
      },
      "execution_count": null,
      "outputs": []
    },
    {
      "cell_type": "code",
      "source": [
        "import numpy as np"
      ],
      "metadata": {
        "execution": {
          "iopub.status.busy": "2023-09-24T12:02:14.938558Z",
          "iopub.execute_input": "2023-09-24T12:02:14.939010Z",
          "iopub.status.idle": "2023-09-24T12:02:14.944982Z",
          "shell.execute_reply.started": "2023-09-24T12:02:14.938972Z",
          "shell.execute_reply": "2023-09-24T12:02:14.943674Z"
        },
        "trusted": true,
        "id": "148LlJdkEnPp"
      },
      "execution_count": null,
      "outputs": []
    },
    {
      "cell_type": "code",
      "source": [
        "# Define the HMM parameters\n",
        "hidden_states = ['Sunny', 'Rainy']\n",
        "observables = ['Paint', 'Clean', 'Shop', 'Bike']\n",
        "\n",
        "initial_probabilities = np.array([0.6, 0.4])  # Initial probabilities for Sunny and Rainy\n",
        "transition_probabilities = np.array([[0.8, 0.2],  # Transition matrix from Sunny to Sunny/Rainy\n",
        "                                    [0.4, 0.6]])  # Transition matrix from Rainy to Sunny/Rainy\n",
        "\n",
        "emission_probabilities = np.array([[0.4, 0.1, 0.2, 0.3],  # Emission matrix for Sunny\n",
        "                                   [0.3, 0.45, 0.2, 0.05]])  # Emission matrix for Rainy\n",
        "\n",
        "observation_sequence = ['Paint', 'Clean', 'Shop', 'Bike']"
      ],
      "metadata": {
        "execution": {
          "iopub.status.busy": "2023-09-24T12:02:14.947505Z",
          "iopub.execute_input": "2023-09-24T12:02:14.948000Z",
          "iopub.status.idle": "2023-09-24T12:02:14.961976Z",
          "shell.execute_reply.started": "2023-09-24T12:02:14.947951Z",
          "shell.execute_reply": "2023-09-24T12:02:14.960439Z"
        },
        "trusted": true,
        "id": "jdfBdwajEnPy"
      },
      "execution_count": null,
      "outputs": []
    },
    {
      "cell_type": "code",
      "source": [
        "# Initialize the forward variables\n",
        "T = len(observation_sequence)\n",
        "N = len(hidden_states)\n",
        "forward = np.zeros((T, N))"
      ],
      "metadata": {
        "execution": {
          "iopub.status.busy": "2023-09-24T12:02:14.963708Z",
          "iopub.execute_input": "2023-09-24T12:02:14.964059Z",
          "iopub.status.idle": "2023-09-24T12:02:14.976993Z",
          "shell.execute_reply.started": "2023-09-24T12:02:14.964023Z",
          "shell.execute_reply": "2023-09-24T12:02:14.975773Z"
        },
        "trusted": true,
        "id": "VWvxFyEXEnP2"
      },
      "execution_count": null,
      "outputs": []
    },
    {
      "cell_type": "code",
      "source": [
        "# Initialization step\n",
        "for i in range(N):\n",
        "    forward[0][i] = initial_probabilities[i] * emission_probabilities[i][observables.index(observation_sequence[0])]"
      ],
      "metadata": {
        "execution": {
          "iopub.status.busy": "2023-09-24T12:02:14.979182Z",
          "iopub.execute_input": "2023-09-24T12:02:14.980074Z",
          "iopub.status.idle": "2023-09-24T12:02:14.994696Z",
          "shell.execute_reply.started": "2023-09-24T12:02:14.980030Z",
          "shell.execute_reply": "2023-09-24T12:02:14.993690Z"
        },
        "trusted": true,
        "id": "tsXi9EISEnP3"
      },
      "execution_count": null,
      "outputs": []
    },
    {
      "cell_type": "code",
      "source": [
        "# Recursion step\n",
        "for t in range(1, T):\n",
        "    for j in range(N):\n",
        "        sum_term = sum(forward[t-1][i] * transition_probabilities[i][j] * emission_probabilities[j][observables.index(observation_sequence[t])]\n",
        "                      for i in range(N))\n",
        "        forward[t][j] = sum_term\n"
      ],
      "metadata": {
        "execution": {
          "iopub.status.busy": "2023-09-24T12:02:14.998080Z",
          "iopub.execute_input": "2023-09-24T12:02:14.998599Z",
          "iopub.status.idle": "2023-09-24T12:02:15.015375Z",
          "shell.execute_reply.started": "2023-09-24T12:02:14.998552Z",
          "shell.execute_reply": "2023-09-24T12:02:15.013949Z"
        },
        "trusted": true,
        "id": "SmbE_BD3EnP3"
      },
      "execution_count": null,
      "outputs": []
    },
    {
      "cell_type": "code",
      "source": [
        "# Termination step\n",
        "likelihood = sum(forward[T-1][i] for i in range(N))\n",
        "\n",
        "print(f\"Likelihood of the observation sequence {observation_sequence} given the HMM: {likelihood}\")"
      ],
      "metadata": {
        "execution": {
          "iopub.status.busy": "2023-09-24T12:02:15.016877Z",
          "iopub.execute_input": "2023-09-24T12:02:15.017417Z",
          "iopub.status.idle": "2023-09-24T12:02:15.032549Z",
          "shell.execute_reply.started": "2023-09-24T12:02:15.017380Z",
          "shell.execute_reply": "2023-09-24T12:02:15.031260Z"
        },
        "trusted": true,
        "id": "pYvWHk9sEnP4",
        "outputId": "3013515e-7823-4f42-ca97-2417e99d520c",
        "colab": {
          "base_uri": "https://localhost:8080/"
        }
      },
      "execution_count": null,
      "outputs": [
        {
          "output_type": "stream",
          "name": "stdout",
          "text": [
            "Likelihood of the observation sequence ['Paint', 'Clean', 'Shop', 'Bike'] given the HMM: 0.0031560000000000004\n"
          ]
        }
      ]
    }
  ]
}