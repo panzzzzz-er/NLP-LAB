{
  "nbformat": 4,
  "nbformat_minor": 0,
  "metadata": {
    "colab": {
      "provenance": []
    },
    "kernelspec": {
      "name": "python3",
      "display_name": "Python 3"
    },
    "language_info": {
      "name": "python"
    }
  },
  "cells": [
    {
      "cell_type": "code",
      "source": [
        "# PORTER STEMMING ALGORITHM\n",
        "# Mohit Pansare\n",
        "# 9391\n",
        "# BE AI-DS\n",
        "# NLP Lab Exp 3\n",
        "# 02/08/2023"
      ],
      "metadata": {
        "id": "Bb_5VtzXi-W5"
      },
      "execution_count": null,
      "outputs": []
    },
    {
      "cell_type": "markdown",
      "source": [
        "Without NLTK (from scratch)"
      ],
      "metadata": {
        "id": "1wqLbU_3fsga"
      }
    },
    {
      "cell_type": "code",
      "execution_count": null,
      "metadata": {
        "id": "zzdkPPl7fh6X"
      },
      "outputs": [],
      "source": [
        "def measure(word):\n",
        "    # Measure the word stem's m value (number of consonant sequences before a vowel)\n",
        "    word = word.lower()\n",
        "    count = 0\n",
        "    index = 0\n",
        "    while index < len(word):\n",
        "        if word[index] in \"aeiou\":\n",
        "            break\n",
        "        index += 1\n",
        "\n",
        "    while index < len(word):\n",
        "        if word[index] in \"bcdfghjklmnpqrstvwxyz\":\n",
        "            count += 1\n",
        "            while index < len(word) and word[index] in \"bcdfghjklmnpqrstvwxyz\":\n",
        "                index += 1\n",
        "        else:\n",
        "            break\n",
        "\n",
        "    return count"
      ]
    },
    {
      "cell_type": "code",
      "source": [
        "def ends_with_double_consonant(word):\n",
        "    # Check if the word ends with a double consonant\n",
        "    word = word.lower()\n",
        "    return len(word) >= 2 and word[-1] == word[-2] and word[-1] in \"bcdfghjklmnpqrstvwxyz\""
      ],
      "metadata": {
        "id": "9sBS18Dwfw8j"
      },
      "execution_count": null,
      "outputs": []
    },
    {
      "cell_type": "code",
      "source": [
        "def ends_with_cvc(word):\n",
        "    # Check if the word ends with a consonant-vowel-consonant pattern\n",
        "    word = word.lower()\n",
        "    if len(word) >= 3 and word[-3] in \"bcdfghjklmnpqrstvwxyz\" and word[-2] in \"aeiou\" and word[-1] in \"bcdfghjklmnpqrstvwxyz\":\n",
        "        return word[-1] not in \"wxy\"\n",
        "    return False"
      ],
      "metadata": {
        "id": "UeK5ugrFf_8a"
      },
      "execution_count": null,
      "outputs": []
    },
    {
      "cell_type": "code",
      "source": [
        "def replace_suffix(word, suffix, replacement):\n",
        "    # Replace a suffix with a replacement at the end of the word\n",
        "    if word.endswith(suffix):\n",
        "        return word[:-len(suffix)] + replacement\n",
        "    return word"
      ],
      "metadata": {
        "id": "FSwSKNP8gDGJ"
      },
      "execution_count": null,
      "outputs": []
    },
    {
      "cell_type": "code",
      "source": [
        "def step1a(word):\n",
        "    # Step 1a of the Porter Stemmer: Plural removal\n",
        "    word = replace_suffix(word, \"sses\", \"ss\")\n",
        "    word = replace_suffix(word, \"ies\", \"i\")\n",
        "    word = replace_suffix(word, \"ss\", \"ss\")\n",
        "    word = replace_suffix(word, \"s\", \"\")\n",
        "    return word"
      ],
      "metadata": {
        "id": "qv26NNJXgE60"
      },
      "execution_count": null,
      "outputs": []
    },
    {
      "cell_type": "code",
      "source": [
        "def step1b(word):\n",
        "    # Step 1b of the Porter Stemmer: Other endings\n",
        "    if word.endswith(\"eed\"):\n",
        "        if measure(word[:-3]) > 0:\n",
        "            word = word[:-1]\n",
        "    elif word.endswith(\"ed\"):\n",
        "        if \"a\" in word[:-2] or \"e\" in word[:-2] or \"i\" in word[:-2] or \"o\" in word[:-2] or \"u\" in word[:-2]:\n",
        "            word = word[:-2]\n",
        "            if ends_with_double_consonant(word):\n",
        "                word = word[:-1]\n",
        "            elif measure(word) == 1 and ends_with_cvc(word):\n",
        "                word += \"e\"\n",
        "    elif word.endswith(\"ing\"):\n",
        "        if \"a\" in word[:-3] or \"e\" in word[:-3] or \"i\" in word[:-3] or \"o\" in word[:-3] or \"u\" in word[:-3]:\n",
        "            word = word[:-3]\n",
        "            if ends_with_double_consonant(word):\n",
        "                word = word[:-1]\n",
        "            elif measure(word) == 1 and ends_with_cvc(word):\n",
        "                word += \"e\"\n",
        "    return word"
      ],
      "metadata": {
        "id": "a8nyJwLjgGb3"
      },
      "execution_count": null,
      "outputs": []
    },
    {
      "cell_type": "code",
      "source": [
        "def step1c(word):\n",
        "    # Step 1c of the Porter Stemmer: Y to I\n",
        "    if word.endswith(\"y\") and measure(word[:-1]) > 0:\n",
        "        word = word[:-1] + \"i\"\n",
        "    return word"
      ],
      "metadata": {
        "id": "VN1Br98ugIm8"
      },
      "execution_count": null,
      "outputs": []
    },
    {
      "cell_type": "code",
      "source": [
        "def step2(word):\n",
        "    # Step 2 of the Porter Stemmer\n",
        "    word = replace_suffix(word, \"ational\", \"ate\")\n",
        "    word = replace_suffix(word, \"tional\", \"tion\")\n",
        "    word = replace_suffix(word, \"enci\", \"ence\")\n",
        "    word = replace_suffix(word, \"anci\", \"ance\")\n",
        "    word = replace_suffix(word, \"izer\", \"ize\")\n",
        "    word = replace_suffix(word, \"abli\", \"able\")\n",
        "    word = replace_suffix(word, \"alli\", \"al\")\n",
        "    word = replace_suffix(word, \"entli\", \"ent\")\n",
        "    word = replace_suffix(word, \"eli\", \"e\")\n",
        "    word = replace_suffix(word, \"ousli\", \"ous\")\n",
        "    word = replace_suffix(word, \"ization\", \"ize\")\n",
        "    word = replace_suffix(word, \"ation\", \"ate\")\n",
        "    word = replace_suffix(word, \"ator\", \"ate\")\n",
        "    word = replace_suffix(word, \"alism\", \"al\")\n",
        "    word = replace_suffix(word, \"iveness\", \"ive\")\n",
        "    word = replace_suffix(word, \"fulness\", \"ful\")\n",
        "    word = replace_suffix(word, \"ousness\", \"ous\")\n",
        "    word = replace_suffix(word, \"aliti\", \"al\")\n",
        "    word = replace_suffix(word, \"iviti\", \"ive\")\n",
        "    word = replace_suffix(word, \"biliti\", \"ble\")\n",
        "    return word\n"
      ],
      "metadata": {
        "id": "7BvIJN-UgKJV"
      },
      "execution_count": null,
      "outputs": []
    },
    {
      "cell_type": "code",
      "source": [
        "def step3(word):\n",
        "    # Step 3 of the Porter Stemmer\n",
        "    word = replace_suffix(word, \"icate\", \"ic\")\n",
        "    word = replace_suffix(word, \"ative\", \"\")\n",
        "    word = replace_suffix(word, \"alize\", \"al\")\n",
        "    word = replace_suffix(word, \"iciti\", \"ic\")\n",
        "    word = replace_suffix(word, \"ical\", \"ic\")\n",
        "    word = replace_suffix(word, \"ful\", \"\")\n",
        "    word = replace_suffix(word, \"ness\", \"\")\n",
        "    return word"
      ],
      "metadata": {
        "id": "5OBKKthPgMan"
      },
      "execution_count": null,
      "outputs": []
    },
    {
      "cell_type": "code",
      "source": [
        "def step4(word):\n",
        "    # Step 4 of the Porter Stemmer\n",
        "    word = replace_suffix(word, \"al\", \"\")\n",
        "    word = replace_suffix(word, \"ance\", \"\")\n",
        "    word = replace_suffix(word, \"ence\", \"\")\n",
        "    word = replace_suffix(word, \"er\", \"\")\n",
        "    word = replace_suffix(word, \"ic\", \"\")\n",
        "    word = replace_suffix(word, \"able\", \"\")\n",
        "    word = replace_suffix(word, \"ible\", \"\")\n",
        "    word = replace_suffix(word, \"ant\", \"\")\n",
        "    word = replace_suffix(word, \"ement\", \"\")\n",
        "    word = replace_suffix(word, \"ment\", \"\")\n",
        "    word = replace_suffix(word, \"ent\", \"\")\n",
        "    word = replace_suffix(word, \"ion\", \"\")\n",
        "    word = replace_suffix(word, \"ou\", \"\")\n",
        "    word = replace_suffix(word, \"ism\", \"\")\n",
        "    word = replace_suffix(word, \"ate\", \"\")\n",
        "    word = replace_suffix(word, \"iti\", \"\")\n",
        "    word = replace_suffix(word, \"ous\", \"\")\n",
        "    word = replace_suffix(word, \"ive\", \"\")\n",
        "    word = replace_suffix(word, \"ize\", \"\")\n",
        "    return word"
      ],
      "metadata": {
        "id": "3tGTUl0TgOby"
      },
      "execution_count": null,
      "outputs": []
    },
    {
      "cell_type": "code",
      "source": [
        "def step5a(word):\n",
        "    # Step 5a of the Porter Stemmer\n",
        "    if word.endswith(\"e\"):\n",
        "        if measure(word[:-1]) > 1:\n",
        "            word = word[:-1]\n",
        "        elif measure(word[:-1]) == 1 and not ends_with_cvc(word[:-1]):\n",
        "            word = word[:-1]\n",
        "    return word\n"
      ],
      "metadata": {
        "id": "oXwIrSrugQO4"
      },
      "execution_count": null,
      "outputs": []
    },
    {
      "cell_type": "code",
      "source": [
        "def step5b(word):\n",
        "    # Step 5b of the Porter Stemmer\n",
        "    if measure(word) > 1 and ends_with_double_consonant(word) and word.endswith(\"l\"):\n",
        "        word = word[:-1]\n",
        "    return word"
      ],
      "metadata": {
        "id": "d0rn3D9LgR0Z"
      },
      "execution_count": null,
      "outputs": []
    },
    {
      "cell_type": "code",
      "source": [
        "def porter_stemmer(word):\n",
        "    # The main function to apply all steps of the Porter Stemmer to a word\n",
        "    word = step1a(word)\n",
        "    # print(\"step 1a: \", word)\n",
        "    word = step1b(word)\n",
        "    # print(\"step 1b: \",word)\n",
        "    word = step1c(word)\n",
        "    # print(\"step 1c: \",word)\n",
        "    word = step2(word)\n",
        "    # print(\"step 2: \",word)\n",
        "    word = step3(word)\n",
        "    # print(\"step 3: \",word)\n",
        "    word = step4(word)\n",
        "    # print(\"step 4: \",word)\n",
        "    word = step5a(word)\n",
        "    # print(\"step 5a: \",word)\n",
        "    word = step5b(word)\n",
        "    # print(\"step 5b: \",word)\n",
        "\n",
        "    return word"
      ],
      "metadata": {
        "id": "3ajIw2ZigTHN"
      },
      "execution_count": null,
      "outputs": []
    },
    {
      "cell_type": "code",
      "source": [
        "# words2 = ['operator', 'operation', 'operational', 'operationalism', 'operationist', 'operationally', 'operationalist']\n",
        "# for word in words2:\n",
        "#   stem_words.append(porter_stemmer(word))\n"
      ],
      "metadata": {
        "id": "i1_jSk-agUiV"
      },
      "execution_count": null,
      "outputs": []
    },
    {
      "cell_type": "code",
      "source": [
        "words = ['operator', 'operation', 'operational', 'operationalism', 'operationist', 'operationally', 'operationalist']\n",
        "stem_words = []\n",
        "for words in words:\n",
        "  stem_words.append(porter_stemmer(words))\n",
        "print(stem_words)"
      ],
      "metadata": {
        "colab": {
          "base_uri": "https://localhost:8080/"
        },
        "id": "qsXqaznriz5H",
        "outputId": "71cca4ed-3427-44ad-dfa1-644cf1259f47"
      },
      "execution_count": null,
      "outputs": [
        {
          "output_type": "stream",
          "name": "stdout",
          "text": [
            "['oper', 'oper', 'oper', 'operat', 'operationist', 'operationally', 'operationalist']\n"
          ]
        }
      ]
    },
    {
      "cell_type": "markdown",
      "source": [
        "With NLTK"
      ],
      "metadata": {
        "id": "JB6LqvgPhu2k"
      }
    },
    {
      "cell_type": "code",
      "source": [
        "from nltk.stem import PorterStemmer\n",
        "from nltk.tokenize import word_tokenize"
      ],
      "metadata": {
        "id": "PCVmYQC8gZLt"
      },
      "execution_count": null,
      "outputs": []
    },
    {
      "cell_type": "code",
      "source": [
        "# creating an object of the PorterStemmer class\n",
        "pStemmer = PorterStemmer()\n",
        "\n",
        "# selecting some words to be stemmed\n",
        "words = [\"consult\", \"consultant\", \"consulting\", \"consultantative\", \"consultants\", \"consulting\"]\n",
        "\n",
        "stem_words = []\n",
        "for words in words:\n",
        "  stem_words.append(pStemmer.stem(words))\n",
        "\n",
        "print(stem_words)"
      ],
      "metadata": {
        "colab": {
          "base_uri": "https://localhost:8080/"
        },
        "id": "UlH90qDehxpB",
        "outputId": "dcdb681f-72b3-4507-bc7f-778f26bd934e"
      },
      "execution_count": null,
      "outputs": [
        {
          "output_type": "stream",
          "name": "stdout",
          "text": [
            "['consult', 'consult', 'consult', 'consult', 'consult', 'consult']\n"
          ]
        }
      ]
    },
    {
      "cell_type": "code",
      "source": [
        "words = ['operator', 'operation', 'operational', 'operationalism', 'operationist', 'operationally', 'operationalist']\n",
        "stem_words = []\n",
        "for words in words:\n",
        "  stem_words.append(pStemmer.stem(words))\n",
        "\n",
        "print(stem_words)"
      ],
      "metadata": {
        "id": "Q4IWXjTAhyz2",
        "outputId": "642070d1-312f-460e-cca5-3054f2582f62",
        "colab": {
          "base_uri": "https://localhost:8080/"
        }
      },
      "execution_count": null,
      "outputs": [
        {
          "output_type": "stream",
          "name": "stdout",
          "text": [
            "['oper', 'oper', 'oper', 'operation', 'operationist', 'oper', 'operationalist']\n"
          ]
        }
      ]
    }
  ]
}