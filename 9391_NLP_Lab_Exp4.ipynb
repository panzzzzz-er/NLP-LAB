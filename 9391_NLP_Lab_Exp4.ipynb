{
  "nbformat": 4,
  "nbformat_minor": 0,
  "metadata": {
    "colab": {
      "provenance": []
    },
    "kernelspec": {
      "name": "python3",
      "display_name": "Python 3"
    },
    "language_info": {
      "name": "python"
    }
  },
  "cells": [
    {
      "cell_type": "code",
      "execution_count": null,
      "metadata": {
        "colab": {
          "base_uri": "https://localhost:8080/"
        },
        "id": "28ETSWLKWgjn",
        "outputId": "32059b0d-45e0-4824-cce8-2b023d487162"
      },
      "outputs": [
        {
          "output_type": "stream",
          "name": "stdout",
          "text": [
            "2023-08-10 12:22:19.201829: W tensorflow/compiler/tf2tensorrt/utils/py_utils.cc:38] TF-TRT Warning: Could not find TensorRT\n",
            "Collecting xx-ent-wiki-sm==3.5.0\n",
            "  Downloading https://github.com/explosion/spacy-models/releases/download/xx_ent_wiki_sm-3.5.0/xx_ent_wiki_sm-3.5.0-py3-none-any.whl (11.1 MB)\n",
            "\u001b[2K     \u001b[90m━━━━━━━━━━━━━━━━━━━━━━━━━━━━━━━━━━━━━━━━\u001b[0m \u001b[32m11.1/11.1 MB\u001b[0m \u001b[31m19.6 MB/s\u001b[0m eta \u001b[36m0:00:00\u001b[0m\n",
            "\u001b[?25hRequirement already satisfied: spacy<3.6.0,>=3.5.0 in /usr/local/lib/python3.10/dist-packages (from xx-ent-wiki-sm==3.5.0) (3.5.4)\n",
            "Requirement already satisfied: spacy-legacy<3.1.0,>=3.0.11 in /usr/local/lib/python3.10/dist-packages (from spacy<3.6.0,>=3.5.0->xx-ent-wiki-sm==3.5.0) (3.0.12)\n",
            "Requirement already satisfied: spacy-loggers<2.0.0,>=1.0.0 in /usr/local/lib/python3.10/dist-packages (from spacy<3.6.0,>=3.5.0->xx-ent-wiki-sm==3.5.0) (1.0.4)\n",
            "Requirement already satisfied: murmurhash<1.1.0,>=0.28.0 in /usr/local/lib/python3.10/dist-packages (from spacy<3.6.0,>=3.5.0->xx-ent-wiki-sm==3.5.0) (1.0.9)\n",
            "Requirement already satisfied: cymem<2.1.0,>=2.0.2 in /usr/local/lib/python3.10/dist-packages (from spacy<3.6.0,>=3.5.0->xx-ent-wiki-sm==3.5.0) (2.0.7)\n",
            "Requirement already satisfied: preshed<3.1.0,>=3.0.2 in /usr/local/lib/python3.10/dist-packages (from spacy<3.6.0,>=3.5.0->xx-ent-wiki-sm==3.5.0) (3.0.8)\n",
            "Requirement already satisfied: thinc<8.2.0,>=8.1.8 in /usr/local/lib/python3.10/dist-packages (from spacy<3.6.0,>=3.5.0->xx-ent-wiki-sm==3.5.0) (8.1.10)\n",
            "Requirement already satisfied: wasabi<1.2.0,>=0.9.1 in /usr/local/lib/python3.10/dist-packages (from spacy<3.6.0,>=3.5.0->xx-ent-wiki-sm==3.5.0) (1.1.2)\n",
            "Requirement already satisfied: srsly<3.0.0,>=2.4.3 in /usr/local/lib/python3.10/dist-packages (from spacy<3.6.0,>=3.5.0->xx-ent-wiki-sm==3.5.0) (2.4.7)\n",
            "Requirement already satisfied: catalogue<2.1.0,>=2.0.6 in /usr/local/lib/python3.10/dist-packages (from spacy<3.6.0,>=3.5.0->xx-ent-wiki-sm==3.5.0) (2.0.9)\n",
            "Requirement already satisfied: typer<0.10.0,>=0.3.0 in /usr/local/lib/python3.10/dist-packages (from spacy<3.6.0,>=3.5.0->xx-ent-wiki-sm==3.5.0) (0.9.0)\n",
            "Requirement already satisfied: pathy>=0.10.0 in /usr/local/lib/python3.10/dist-packages (from spacy<3.6.0,>=3.5.0->xx-ent-wiki-sm==3.5.0) (0.10.2)\n",
            "Requirement already satisfied: smart-open<7.0.0,>=5.2.1 in /usr/local/lib/python3.10/dist-packages (from spacy<3.6.0,>=3.5.0->xx-ent-wiki-sm==3.5.0) (6.3.0)\n",
            "Requirement already satisfied: tqdm<5.0.0,>=4.38.0 in /usr/local/lib/python3.10/dist-packages (from spacy<3.6.0,>=3.5.0->xx-ent-wiki-sm==3.5.0) (4.65.0)\n",
            "Requirement already satisfied: numpy>=1.15.0 in /usr/local/lib/python3.10/dist-packages (from spacy<3.6.0,>=3.5.0->xx-ent-wiki-sm==3.5.0) (1.23.5)\n",
            "Requirement already satisfied: requests<3.0.0,>=2.13.0 in /usr/local/lib/python3.10/dist-packages (from spacy<3.6.0,>=3.5.0->xx-ent-wiki-sm==3.5.0) (2.31.0)\n",
            "Requirement already satisfied: pydantic!=1.8,!=1.8.1,<1.11.0,>=1.7.4 in /usr/local/lib/python3.10/dist-packages (from spacy<3.6.0,>=3.5.0->xx-ent-wiki-sm==3.5.0) (1.10.12)\n",
            "Requirement already satisfied: jinja2 in /usr/local/lib/python3.10/dist-packages (from spacy<3.6.0,>=3.5.0->xx-ent-wiki-sm==3.5.0) (3.1.2)\n",
            "Requirement already satisfied: setuptools in /usr/local/lib/python3.10/dist-packages (from spacy<3.6.0,>=3.5.0->xx-ent-wiki-sm==3.5.0) (67.7.2)\n",
            "Requirement already satisfied: packaging>=20.0 in /usr/local/lib/python3.10/dist-packages (from spacy<3.6.0,>=3.5.0->xx-ent-wiki-sm==3.5.0) (23.1)\n",
            "Requirement already satisfied: langcodes<4.0.0,>=3.2.0 in /usr/local/lib/python3.10/dist-packages (from spacy<3.6.0,>=3.5.0->xx-ent-wiki-sm==3.5.0) (3.3.0)\n",
            "Requirement already satisfied: typing-extensions>=4.2.0 in /usr/local/lib/python3.10/dist-packages (from pydantic!=1.8,!=1.8.1,<1.11.0,>=1.7.4->spacy<3.6.0,>=3.5.0->xx-ent-wiki-sm==3.5.0) (4.7.1)\n",
            "Requirement already satisfied: charset-normalizer<4,>=2 in /usr/local/lib/python3.10/dist-packages (from requests<3.0.0,>=2.13.0->spacy<3.6.0,>=3.5.0->xx-ent-wiki-sm==3.5.0) (3.2.0)\n",
            "Requirement already satisfied: idna<4,>=2.5 in /usr/local/lib/python3.10/dist-packages (from requests<3.0.0,>=2.13.0->spacy<3.6.0,>=3.5.0->xx-ent-wiki-sm==3.5.0) (3.4)\n",
            "Requirement already satisfied: urllib3<3,>=1.21.1 in /usr/local/lib/python3.10/dist-packages (from requests<3.0.0,>=2.13.0->spacy<3.6.0,>=3.5.0->xx-ent-wiki-sm==3.5.0) (1.26.16)\n",
            "Requirement already satisfied: certifi>=2017.4.17 in /usr/local/lib/python3.10/dist-packages (from requests<3.0.0,>=2.13.0->spacy<3.6.0,>=3.5.0->xx-ent-wiki-sm==3.5.0) (2023.7.22)\n",
            "Requirement already satisfied: blis<0.8.0,>=0.7.8 in /usr/local/lib/python3.10/dist-packages (from thinc<8.2.0,>=8.1.8->spacy<3.6.0,>=3.5.0->xx-ent-wiki-sm==3.5.0) (0.7.10)\n",
            "Requirement already satisfied: confection<1.0.0,>=0.0.1 in /usr/local/lib/python3.10/dist-packages (from thinc<8.2.0,>=8.1.8->spacy<3.6.0,>=3.5.0->xx-ent-wiki-sm==3.5.0) (0.1.1)\n",
            "Requirement already satisfied: click<9.0.0,>=7.1.1 in /usr/local/lib/python3.10/dist-packages (from typer<0.10.0,>=0.3.0->spacy<3.6.0,>=3.5.0->xx-ent-wiki-sm==3.5.0) (8.1.6)\n",
            "Requirement already satisfied: MarkupSafe>=2.0 in /usr/local/lib/python3.10/dist-packages (from jinja2->spacy<3.6.0,>=3.5.0->xx-ent-wiki-sm==3.5.0) (2.1.3)\n",
            "\u001b[38;5;2m✔ Download and installation successful\u001b[0m\n",
            "You can now load the package via spacy.load('xx_ent_wiki_sm')\n"
          ]
        }
      ],
      "source": [
        "! python -m spacy download xx_ent_wiki_sm"
      ]
    },
    {
      "cell_type": "code",
      "source": [
        "hindi_words = {\n",
        "    'खेल': {'root': 'खेल', 'category': 'noun', 'gender': 'masculine', 'number': 'singular'},\n",
        "    'पढ़ना': {'root': 'पढ़', 'category': 'verb', 'person': '3rd', 'number': 'singular', 'tense': 'present'},\n",
        "    'मित्र': {'root': 'मित्र', 'category': 'noun', 'gender': 'masculine', 'number': 'singular'},\n",
        "    'गाना': {'root': 'गा', 'category': 'verb', 'person': '1st', 'number': 'singular', 'tense': 'present'},\n",
        "    'सुंदर': {'root': 'सुंदर', 'category': 'adjective', 'gender': 'masculine', 'number': 'singular'},\n",
        "    'दौड़ना': {'root': 'दौड़', 'category': 'verb', 'person': '2nd', 'number': 'singular', 'tense': 'present'},\n",
        "    'किताब': {'root': 'किताब', 'category': 'noun', 'gender': 'feminine', 'number': 'singular'},\n",
        "}\n",
        "\n",
        "english_words = {\n",
        "    'book': {'root': 'book', 'category': 'noun', 'number': 'singular'},\n",
        "    'run': {'root': 'run', 'category': 'verb', 'person': '3rd', 'number': 'singular', 'tense': 'present'},\n",
        "    'friend': {'root': 'friend', 'category': 'noun', 'number': 'singular'},\n",
        "    'sing': {'root': 'sing', 'category': 'verb', 'person': '1st', 'number': 'singular', 'tense': 'present'},\n",
        "    'beautiful': {'root': 'beautiful', 'category': 'adjective', 'number': 'singular'},\n",
        "    'swim': {'root': 'swim', 'category': 'verb', 'person': '2nd', 'number': 'singular', 'tense': 'present'},\n",
        "    'table': {'root': 'table', 'category': 'noun', 'number': 'singular'},\n",
        "}"
      ],
      "metadata": {
        "id": "PbSlM8iLWq4M"
      },
      "execution_count": null,
      "outputs": []
    },
    {
      "cell_type": "code",
      "source": [
        "# word = input(\"Enter a word: \")\n",
        "# language = input(\"Enter language (Hindi/English): \")\n",
        "\n",
        "word = 'swim'\n",
        "langauge = 'english'\n",
        "\n",
        "if language.lower() == 'hindi':\n",
        "    if word in hindi_words:\n",
        "        print(\"Morphological Analysis:\")\n",
        "        for key, value in hindi_words[word].items():\n",
        "            print(f\"{key}: {value}\")\n",
        "    else:\n",
        "        print(\"Word not found in the Hindi table.\")\n",
        "elif language.lower() == 'english':\n",
        "    if word in english_words:\n",
        "        print(\"Morphological Analysis:\")\n",
        "        for key, value in english_words[word].items():\n",
        "            print(f\"{key}: {value}\")\n",
        "    else:\n",
        "        print(\"Word not found in the English table.\")\n",
        "else:\n",
        "    print(\"Unsupported language.\")"
      ],
      "metadata": {
        "colab": {
          "base_uri": "https://localhost:8080/"
        },
        "id": "GwEgYz8FW5B7",
        "outputId": "9f258336-b1eb-4945-929c-aa90cd239be5"
      },
      "execution_count": null,
      "outputs": [
        {
          "output_type": "stream",
          "name": "stdout",
          "text": [
            "Unsupported language.\n"
          ]
        }
      ]
    },
    {
      "cell_type": "code",
      "source": [
        "template = \"I {verb} the {noun}.\"\n",
        "# verb = input(\"Enter a verb: \")\n",
        "# noun = input(\"Enter a noun: \")\n",
        "\n",
        "verb = 'read'\n",
        "noun = 'Harry Potter'\n",
        "\n",
        "generated_text = template.format(verb=verb, noun=noun)\n",
        "print(\"Generated Text:\", generated_text)"
      ],
      "metadata": {
        "colab": {
          "base_uri": "https://localhost:8080/"
        },
        "id": "_5I2-pR8W-fZ",
        "outputId": "9d24c183-c1fb-4ee2-882c-178c552d7d7c"
      },
      "execution_count": null,
      "outputs": [
        {
          "output_type": "stream",
          "name": "stdout",
          "text": [
            "Generated Text: I read the Harry Potter.\n"
          ]
        }
      ]
    },
    {
      "cell_type": "code",
      "source": [
        "import spacy\n",
        "\n",
        "# Load the appropriate language model\n",
        "nlp_en = spacy.load(\"en_core_web_sm\")  # English language model\n",
        "nlp_hi = spacy.load(\"xx_ent_wiki_sm\")  # Multilingual model including Hindi\n",
        "\n",
        "def analyze_morphology(text, language):\n",
        "    if language == \"hi\":\n",
        "        doc = nlp_hi(text)\n",
        "    elif language == \"en\":\n",
        "        doc = nlp_en(text)\n",
        "    else:\n",
        "        return \"Unsupported language.\"\n",
        "\n",
        "    print(\"Morphological Analysis:\")\n",
        "    for token in doc:\n",
        "        print(f\"Token: {token.text}, Lemma: {token.lemma_}, POS: {token.pos_}\")\n",
        "\n",
        "# Get user input\n",
        "# word = input(\"Enter a word: \")\n",
        "# language = input(\"Enter language (hi/en): \")\n",
        "\n",
        "word = 'reading'\n",
        "language = 'en'\n",
        "\n",
        "# Perform morphological analysis\n",
        "analyze_morphology(word, language)"
      ],
      "metadata": {
        "colab": {
          "base_uri": "https://localhost:8080/"
        },
        "id": "_PiVH8-QXDtT",
        "outputId": "cff99a5e-1516-4b45-9520-b03c875558b9"
      },
      "execution_count": null,
      "outputs": [
        {
          "output_type": "stream",
          "name": "stdout",
          "text": [
            "Morphological Analysis:\n",
            "Token: reading, Lemma: read, POS: VERB\n"
          ]
        }
      ]
    }
  ]
}